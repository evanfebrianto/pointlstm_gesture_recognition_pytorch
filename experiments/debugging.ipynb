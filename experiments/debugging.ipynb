{
 "cells": [
  {
   "cell_type": "code",
   "execution_count": 1,
   "id": "incorporated-palestinian",
   "metadata": {},
   "outputs": [],
   "source": [
    "import torch"
   ]
  },
  {
   "cell_type": "code",
   "execution_count": 7,
   "id": "conventional-senior",
   "metadata": {},
   "outputs": [],
   "source": [
    "topk = tuple([1,5])\n",
    "correct = torch.Tensor([[ True,  True,  True,  True],\n",
    "                      [False, False, False, False],\n",
    "                      [False, False, False, False],\n",
    "                      [False, False, False, False],\n",
    "                      [False, False, False, False]])"
   ]
  },
  {
   "cell_type": "code",
   "execution_count": 14,
   "id": "fifty-carnival",
   "metadata": {},
   "outputs": [
    {
     "name": "stdout",
     "output_type": "stream",
     "text": [
      "k: 1\ttype: <class 'int'>\n",
      "correct_k: 4.0\ttype: <class 'torch.Tensor'>\n",
      "\n",
      "k: 5\ttype: <class 'int'>\n",
      "correct_k: 4.0\ttype: <class 'torch.Tensor'>\n",
      "\n"
     ]
    }
   ],
   "source": [
    "# print('correct: {}\\ttype: {}'.format(correct, type(correct)))\n",
    "# print('topk: {}\\ttype: {}'.format(topk, type(topk)))\n",
    "correct_k_cnt = {\n",
    "    '1': 99,\n",
    "    '5': 99\n",
    "}\n",
    "for k in topk:\n",
    "    print('k: {}\\ttype: {}'.format(k, type(k)))\n",
    "    correct_k = correct[:k].view(-1).float().sum(0)\n",
    "    correct_k_cnt[str(k)] += correct_k\n",
    "    print('correct_k: {}\\ttype: {}'.format(correct_k, type(correct_k)))\n",
    "    print()"
   ]
  },
  {
   "cell_type": "code",
   "execution_count": 20,
   "id": "rural-integrity",
   "metadata": {},
   "outputs": [
    {
     "data": {
      "text/plain": [
       "tensor([[1., 1., 1., 1.],\n",
       "        [0., 0., 0., 0.],\n",
       "        [0., 0., 0., 0.],\n",
       "        [0., 0., 0., 0.],\n",
       "        [0., 0., 0., 0.]])"
      ]
     },
     "execution_count": 20,
     "metadata": {},
     "output_type": "execute_result"
    }
   ],
   "source": [
    "correct[:5]"
   ]
  },
  {
   "cell_type": "code",
   "execution_count": 19,
   "id": "collect-player",
   "metadata": {
    "scrolled": true
   },
   "outputs": [
    {
     "data": {
      "text/plain": [
       "tensor([1., 1., 1., 1., 0., 0., 0., 0., 0., 0., 0., 0., 0., 0., 0., 0., 0., 0.,\n",
       "        0., 0.])"
      ]
     },
     "execution_count": 19,
     "metadata": {},
     "output_type": "execute_result"
    }
   ],
   "source": [
    "correct[:5].view(-1)"
   ]
  },
  {
   "cell_type": "code",
   "execution_count": 29,
   "id": "bright-exposure",
   "metadata": {},
   "outputs": [
    {
     "data": {
      "text/plain": [
       "tensor(4.)"
      ]
     },
     "execution_count": 29,
     "metadata": {},
     "output_type": "execute_result"
    }
   ],
   "source": [
    "torch.reshape(correct[:5], (-1,)).float().sum(0)"
   ]
  },
  {
   "cell_type": "code",
   "execution_count": null,
   "id": "accredited-blowing",
   "metadata": {},
   "outputs": [],
   "source": []
  }
 ],
 "metadata": {
  "kernelspec": {
   "display_name": "Python 3",
   "language": "python",
   "name": "python3"
  },
  "language_info": {
   "codemirror_mode": {
    "name": "ipython",
    "version": 3
   },
   "file_extension": ".py",
   "mimetype": "text/x-python",
   "name": "python",
   "nbconvert_exporter": "python",
   "pygments_lexer": "ipython3",
   "version": "3.8.8"
  }
 },
 "nbformat": 4,
 "nbformat_minor": 5
}
